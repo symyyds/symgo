{
 "cells": [
  {
   "cell_type": "markdown",
   "metadata": {},
   "source": [
    "# Python 六大数据类型\n",
    "\n",
    "1. **数值类型 (`int`, `float`, `complex`)**  \n",
    "   - `int`：表示整数值。  \n",
    "     例如：`5`, `-3`\n",
    "   - `float`：表示浮点数，即带小数的数字。  \n",
    "     例如：`3.14`, `-0.001`\n",
    "   - `complex`：表示复数，形如 `a + bj`。  \n",
    "     例如：`2 + 3j`\n",
    "\n",
    "2. **字符串 (`str`)**  \n",
    "   用于表示文本数据。  \n",
    "   例如：`\"Hello\"`, `'Python'`\n",
    "\n",
    "3. **列表 (`list`)**  \n",
    "   用于表示有序的元素集合，可以包含不同类型的数据，且是可变的（可以修改）。  \n",
    "   例如：`[1, 2, 3]`, `['apple', 'banana', 3.14]`\n",
    "\n",
    "4. **字典 (`dict`)**  \n",
    "   用于表示键值对集合，每个键必须唯一，值可以是任意数据类型。  \n",
    "   例如：`{'name': 'Alice', 'age': 30}`, `{'a': 1, 'b': 2}`\n",
    "\n",
    "5. **元组 (`tuple`)**  \n",
    "   类似于列表，但不可变（不可修改）。通常用于存储不需要修改的元素。  \n",
    "   例如：`(1, 2, 3)`, `('apple', 'banana')`\n",
    "\n",
    "6. **集合 (`set`)**  \n",
    "   用于表示无序、不重复的元素集合。适用于去重和集合运算。  \n",
    "   例如：`{1, 2, 3}`, `{'apple', 'banana'}`  \n"
   ]
  },
  {
   "cell_type": "markdown",
   "metadata": {},
   "source": [
    "# 一、Number 数值类型\n",
    "\n",
    "1. **整型 (`int`)**  \n",
    "   在Python3中，只有一种整数类型 `int`，表示为长整型，没有Python2中的 `Long`。`int` 用于表示正整数、负整数或零，不带小数点。  \n",
    "   例如：`5`, `-3`, `0`\n",
    "\n",
    "2. **布尔型 (`bool`)**  \n",
    "   Python3中，`bool` 是 `int` 的子类。`True` 和 `False` 可以与数字相加，`True` 的值为 `1`，`False` 的值为 `0`。  \n",
    "   例如：`True + 1 = 2`, `False + 1 = 1`\n",
    "\n",
    "3. **浮点型 (`float`)**  \n",
    "   浮点型由整数部分和小数部分组成。浮点型数据是近似存储的，因此可能存在精度误差。浮点型也可以使用科学计数法表示。  \n",
    "   例如：`3.14`, `-0.001`, `1.8e3`（`1.8e3 = 1.8 * 10^3 = 1800`）\n",
    "\n",
    "4. **复数型 (`complex`)**  \n",
    "   复数由实数部分和虚数部分组成，可以用 `a + bj` 或 `complex(a, b)` 来表示。复数的实部 `a` 和虚部 `b` 都是浮点型。  \n",
    "   例如：`2 + 3j`, `complex(2, 3)`\n"
   ]
  },
  {
   "cell_type": "code",
   "execution_count": 46,
   "metadata": {},
   "outputs": [
    {
     "name": "stdout",
     "output_type": "stream",
     "text": [
      "<class 'int'>\n",
      "1\n"
     ]
    }
   ],
   "source": [
    "a = 1\n",
    "print(type(a)) # <class 'int'>\n",
    "print(a)"
   ]
  },
  {
   "cell_type": "code",
   "execution_count": 48,
   "metadata": {},
   "outputs": [
    {
     "name": "stdout",
     "output_type": "stream",
     "text": [
      "4 0 4 1.0\n",
      "<class 'float'>\n"
     ]
    }
   ],
   "source": [
    "a = 2  # 整型的加减乘除\n",
    "b = 2\n",
    "c = a+b # =是赋值运算符   ==才是真正的等于\n",
    "d = a-b\n",
    "e = a*b\n",
    "f = a/b # <class 'float'>\n",
    "print(c,d,e,f)\n",
    "print(type(f))"
   ]
  },
  {
   "cell_type": "code",
   "execution_count": null,
   "metadata": {},
   "outputs": [
    {
     "data": {
      "text/plain": [
       "3"
      ]
     },
     "execution_count": 50,
     "metadata": {},
     "output_type": "execute_result"
    }
   ],
   "source": [
    "# 整型的整除 \n",
    "a = 11\n",
    "b = 3\n",
    "c = a//b # 会将小数部分丢弃掉\n",
    "c"
   ]
  },
  {
   "cell_type": "code",
   "execution_count": 53,
   "metadata": {},
   "outputs": [
    {
     "data": {
      "text/plain": [
       "3.6667"
      ]
     },
     "execution_count": 53,
     "metadata": {},
     "output_type": "execute_result"
    }
   ],
   "source": [
    "round(3.66666,4) # 四舍五入"
   ]
  },
  {
   "cell_type": "code",
   "execution_count": 55,
   "metadata": {},
   "outputs": [
    {
     "data": {
      "text/plain": [
       "2"
      ]
     },
     "execution_count": 55,
     "metadata": {},
     "output_type": "execute_result"
    }
   ],
   "source": [
    "a = 11\n",
    "b = 3\n",
    "c = a%b # 求余数\n",
    "c"
   ]
  },
  {
   "cell_type": "code",
   "execution_count": 56,
   "metadata": {},
   "outputs": [
    {
     "data": {
      "text/plain": [
       "8"
      ]
     },
     "execution_count": 56,
     "metadata": {},
     "output_type": "execute_result"
    }
   ],
   "source": [
    "# 幂操作\n",
    "a = 2\n",
    "b = a**3 # 2^3   **   2^3\n",
    "b"
   ]
  },
  {
   "cell_type": "code",
   "execution_count": 58,
   "metadata": {},
   "outputs": [
    {
     "name": "stdout",
     "output_type": "stream",
     "text": [
      "<class 'int'>\n"
     ]
    },
    {
     "data": {
      "text/plain": [
       "3"
      ]
     },
     "execution_count": 58,
     "metadata": {},
     "output_type": "execute_result"
    }
   ],
   "source": [
    "a = 3.666\n",
    "b = int(a) # 将浮点型转化为整型 只保留整数部分\n",
    "print(type(b))\n",
    "b # jupyter 会默认输出最后一个"
   ]
  },
  {
   "cell_type": "code",
   "execution_count": 62,
   "metadata": {},
   "outputs": [
    {
     "name": "stdout",
     "output_type": "stream",
     "text": [
      "1\n",
      "2\n"
     ]
    },
    {
     "data": {
      "text/plain": [
       "3"
      ]
     },
     "execution_count": 62,
     "metadata": {},
     "output_type": "execute_result"
    }
   ],
   "source": [
    "print(1)\n",
    "print(2)\n",
    "3"
   ]
  },
  {
   "cell_type": "code",
   "execution_count": 65,
   "metadata": {},
   "outputs": [
    {
     "name": "stdout",
     "output_type": "stream",
     "text": [
      "<class 'float'>\n",
      "a的值是1.234568\n",
      "a的值是1.23\n",
      "a的值是1.23\n"
     ]
    }
   ],
   "source": [
    "a = 1.23456789\n",
    "print(type(a)) # <class 'float'>\n",
    "print(\"a的值是%f\" % (a)) # %f 默认保留六位\n",
    "print(\"a的值是%.2f\" % (a)) # 保留2位\n",
    "print(f\"a的值是{a:.2f}\") # 保留2位"
   ]
  },
  {
   "cell_type": "code",
   "execution_count": 66,
   "metadata": {},
   "outputs": [
    {
     "name": "stdout",
     "output_type": "stream",
     "text": [
      "1000.0\n",
      "<class 'float'>\n"
     ]
    }
   ],
   "source": [
    "# 科学计数法\n",
    "a = 1e3 # 1*10^3=1000.\n",
    "print(a)\n",
    "print(type(a)) # <class 'float'>"
   ]
  },
  {
   "cell_type": "code",
   "execution_count": 67,
   "metadata": {},
   "outputs": [
    {
     "name": "stdout",
     "output_type": "stream",
     "text": [
      "0.001\n"
     ]
    }
   ],
   "source": [
    "b = 1e-3 # 1*10^(-3)=0.001\n",
    "print(b)"
   ]
  },
  {
   "cell_type": "code",
   "execution_count": 70,
   "metadata": {},
   "outputs": [
    {
     "name": "stdout",
     "output_type": "stream",
     "text": [
      "c的值是0.300\n"
     ]
    }
   ],
   "source": [
    "a = 0.1 # 不精确存储\n",
    "b = 0.2\n",
    "c = a+b\n",
    "c\n",
    "print(\"c的值是%.3f\" % (c))"
   ]
  },
  {
   "cell_type": "code",
   "execution_count": 71,
   "metadata": {},
   "outputs": [
    {
     "name": "stdout",
     "output_type": "stream",
     "text": [
      "(1+2j)\n",
      "<class 'complex'>\n"
     ]
    }
   ],
   "source": [
    "# 复数类型\n",
    "c = 1+2j\n",
    "print(c)\n",
    "print(type(c)) # <class 'complex'>"
   ]
  },
  {
   "cell_type": "code",
   "execution_count": 72,
   "metadata": {},
   "outputs": [
    {
     "name": "stdout",
     "output_type": "stream",
     "text": [
      "(1+2j)\n",
      "<class 'complex'>\n"
     ]
    }
   ],
   "source": [
    "c = complex(1,2)\n",
    "print(c)\n",
    "print(type(c)) # <class 'complex'>"
   ]
  },
  {
   "cell_type": "code",
   "execution_count": 73,
   "metadata": {},
   "outputs": [
    {
     "name": "stdout",
     "output_type": "stream",
     "text": [
      "True\n",
      "2\n",
      "<class 'bool'>\n",
      "False\n",
      "1\n"
     ]
    }
   ],
   "source": [
    "# bool 类型\n",
    "\"\"\"\n",
    "为True：非0数，非空字符串，True\n",
    "为False：空字符串、0、None、False\n",
    "\"\"\"\n",
    "print(True) # <class 'bool'>\n",
    "print(True+1) # True的值为1\n",
    "print(type(True))\n",
    "print(False)\n",
    "print(False+1) # False的值为0"
   ]
  },
  {
   "cell_type": "code",
   "execution_count": 79,
   "metadata": {},
   "outputs": [
    {
     "data": {
      "text/plain": [
       "False"
      ]
     },
     "execution_count": 79,
     "metadata": {},
     "output_type": "execute_result"
    }
   ],
   "source": [
    "bool(None)"
   ]
  },
  {
   "cell_type": "markdown",
   "metadata": {},
   "source": [
    "# 二、String字符串类型\n",
    "\n",
    "创建字符串可以使用单引号、双引号、三单引号和三双引号，其中三引号可以多行定义字符串。Python不支持单字符类型，单字符也在Python中作为一个字符串使用。\n",
    "\n",
    "Python的字符串（或串 `String`）是由数字、字母、下划线组成的一串字符，例如：\n",
    "\n",
    "```python\n",
    "a = \"acc_test\"\n",
    "```\n",
    "\n",
    "- 字符串的索引值以 `0` 为开始值，`-1` 为从末尾的开始位置。\n",
    "- 当我们定义 `a = \"Python\"` 语句时，它在计算机中的执行顺序是：\n",
    "  1. 先在内存中创建一个字符串 `\"Python\"`；\n",
    "  2. 在程序栈寄存器中创建一个变量 `a`；\n",
    "  3. 最后把字符串 `\"Python\"` 的内存地址赋给 `a`。"
   ]
  },
  {
   "cell_type": "code",
   "execution_count": 80,
   "metadata": {},
   "outputs": [
    {
     "name": "stdout",
     "output_type": "stream",
     "text": [
      "hello world\n",
      "<class 'str'>\n"
     ]
    }
   ],
   "source": [
    "str1 = \"hello world\"\n",
    "print(str1)\n",
    "print(type(str1)) # <class 'str'>"
   ]
  },
  {
   "cell_type": "code",
   "execution_count": 81,
   "metadata": {},
   "outputs": [
    {
     "name": "stdout",
     "output_type": "stream",
     "text": [
      "<class 'str'>\n"
     ]
    }
   ],
   "source": [
    "str1 = \"\"\"hello world\"\"\" # <class 'str'>\n",
    "print(type(str1))"
   ]
  },
  {
   "cell_type": "code",
   "execution_count": null,
   "metadata": {},
   "outputs": [
    {
     "name": "stdout",
     "output_type": "stream",
     "text": [
      "1\n"
     ]
    }
   ],
   "source": [
    "# 可作为注释使用 #\n",
    "\"\"\" \n",
    "123\n",
    "hhh\n",
    "aaa\n",
    "\"\"\"\n",
    "a = 1\n",
    "print(a)"
   ]
  },
  {
   "cell_type": "code",
   "execution_count": 83,
   "metadata": {},
   "outputs": [
    {
     "name": "stdout",
     "output_type": "stream",
     "text": [
      "\n",
      "123\n",
      "hhh\n",
      "aaa\n",
      "\n"
     ]
    }
   ],
   "source": [
    "print(\"\"\"\n",
    "123\n",
    "hhh\n",
    "aaa\n",
    "\"\"\")"
   ]
  },
  {
   "cell_type": "code",
   "execution_count": 86,
   "metadata": {},
   "outputs": [
    {
     "data": {
      "text/plain": [
       "'acb'"
      ]
     },
     "execution_count": 86,
     "metadata": {},
     "output_type": "execute_result"
    }
   ],
   "source": [
    "str2 = \"ac\"\n",
    "str3 = \"b\"\n",
    "str2+str3"
   ]
  },
  {
   "cell_type": "code",
   "execution_count": 88,
   "metadata": {},
   "outputs": [
    {
     "data": {
      "text/plain": [
       "' '"
      ]
     },
     "execution_count": 88,
     "metadata": {},
     "output_type": "execute_result"
    }
   ],
   "source": [
    "str1 = \"hello world\" # 索引查询\n",
    "str1[5]"
   ]
  },
  {
   "cell_type": "code",
   "execution_count": 89,
   "metadata": {},
   "outputs": [
    {
     "data": {
      "text/plain": [
       "'r'"
      ]
     },
     "execution_count": 89,
     "metadata": {},
     "output_type": "execute_result"
    }
   ],
   "source": [
    "str1[-3]"
   ]
  },
  {
   "cell_type": "code",
   "execution_count": null,
   "metadata": {},
   "outputs": [
    {
     "name": "stdout",
     "output_type": "stream",
     "text": [
      "hello world\n",
      "hello world\n",
      "hello world\n",
      "ello world\n",
      "el ol\n",
      "ello wor\n",
      "el\n",
      "ello worl\n",
      "ello world\n"
     ]
    }
   ],
   "source": [
    "# 切片 切片操作本质上是通过索引和步长来选择元素 基本语法：sequence[start:end:step]\n",
    "str1 = \"hello world\" \n",
    "print(str1)\n",
    "print(str1[::]) # hello world\n",
    "print(str1[:]) # hello world\n",
    "print(str1[1::]) # \n",
    "print(str1[1::2]) # el ol\n",
    "print(str1[1:9:1]) # ello wor 切片的格式 [start:end:step] 性质为左闭右开\n",
    "print(str1[1:3]) # el\n",
    "print(str1[-10:-1]) # ello worl\n",
    "print(str1[-10:]) # ello world"
   ]
  },
  {
   "cell_type": "code",
   "execution_count": 100,
   "metadata": {},
   "outputs": [
    {
     "name": "stdout",
     "output_type": "stream",
     "text": [
      "1660142736240\n",
      "1660142864816\n"
     ]
    },
    {
     "data": {
      "text/plain": [
       "'aaaa'"
      ]
     },
     "execution_count": 100,
     "metadata": {},
     "output_type": "execute_result"
    }
   ],
   "source": [
    "str1 = \"hello world\"\n",
    "print(id(str1))\n",
    "str1 = \"aaaa\"\n",
    "print(id(str1))\n",
    "str1"
   ]
  },
  {
   "cell_type": "markdown",
   "metadata": {},
   "source": [
    "# 三、List列表\n",
    "\n",
    "List（列表）是Python中使用最频繁的数据类型。\n",
    "\n",
    "列表是写在方括号 `[]` 之间、用逗号分隔开的元素列表，其中元素的类型可以不相同，它支持数字、字符串，甚至可以包含列表（嵌套）。列表中的元素是可以改变的（可变类型）。\n",
    "\n",
    "列表中的每个值都有对应的位置值，称之为索引，第一个索引为 `0`，第二个为 `1`，依次类推。同时也有负索引，`-1` 为末尾开始位置。\n",
    "\n",
    "例如：\n",
    "```python\n",
    "my_list = [1, \"hello\", 3.14, [1, 2, 3]]\n",
    "```\n",
    "在这个例子中：\n",
    "- `my_list[0]` 返回 `1`\n",
    "- `my_list[1]` 返回 `\"hello\"`\n",
    "- `my_list[-1]` 返回 `[1, 2, 3]`（最后一个元素，嵌套的列表）"
   ]
  },
  {
   "cell_type": "code",
   "execution_count": 101,
   "metadata": {},
   "outputs": [
    {
     "name": "stdout",
     "output_type": "stream",
     "text": [
      "[1, 2, 3, 4, 'hello', [1, 2, 3]]\n",
      "<class 'list'>\n"
     ]
    }
   ],
   "source": [
    "# 列表\n",
    "lst1 = [1,2,3,4,\"hello\",[1,2,3]]\n",
    "print(lst1)\n",
    "print(type(lst1)) # <class 'list'>"
   ]
  },
  {
   "cell_type": "code",
   "execution_count": 102,
   "metadata": {},
   "outputs": [
    {
     "data": {
      "text/plain": [
       "[[1, 2], [2, 3]]"
      ]
     },
     "execution_count": 102,
     "metadata": {},
     "output_type": "execute_result"
    }
   ],
   "source": [
    "a = [[1,2],\n",
    "     [2,3]]\n",
    "a"
   ]
  },
  {
   "cell_type": "code",
   "execution_count": null,
   "metadata": {},
   "outputs": [
    {
     "name": "stdout",
     "output_type": "stream",
     "text": [
      "hello\n",
      "[1, 2, 3]\n",
      "<class 'list'>\n"
     ]
    }
   ],
   "source": [
    "lst1 = [1,2,3,4,\"hello\",[1,2,3]] # 根据索引查询\n",
    "print(lst1[4]) # 'hello'\n",
    "print(lst1[-1]) # [1, 2, 3]\n",
    "print(type(lst1[-1]))"
   ]
  },
  {
   "cell_type": "code",
   "execution_count": 106,
   "metadata": {},
   "outputs": [
    {
     "name": "stdout",
     "output_type": "stream",
     "text": [
      "[2, 3, 4, 6, 7, 8]\n",
      "[2, 4, 7]\n",
      "[1, 2, 3, 4, 6, 7, 8]\n"
     ]
    }
   ],
   "source": [
    "lst1 = [1,2,3,4,6,7,8]\n",
    "\n",
    "print(lst1[1:]) # [2, 3, 4, 6, 7, 8]\n",
    "print(lst1[1::2]) # [2, 4, 7] step为2\n",
    "print(lst1[-7:]) # [1, 2, 3, 4, 6, 7, 8]"
   ]
  },
  {
   "cell_type": "code",
   "execution_count": 107,
   "metadata": {},
   "outputs": [
    {
     "data": {
      "text/plain": [
       "[1, 2, 3, 3, 4]"
      ]
     },
     "execution_count": 107,
     "metadata": {},
     "output_type": "execute_result"
    }
   ],
   "source": [
    "a = [1,2,3]\n",
    "b = [3,4]\n",
    "c = a+b\n",
    "c"
   ]
  },
  {
   "cell_type": "code",
   "execution_count": 115,
   "metadata": {},
   "outputs": [
    {
     "data": {
      "text/plain": [
       "[0, 1, 2, 3, 4, 5, 6, 7, 8, 9]"
      ]
     },
     "execution_count": 115,
     "metadata": {},
     "output_type": "execute_result"
    }
   ],
   "source": [
    "a = list(range(0,10)) # [0, 1, 2, 3, 4, 5, 6, 7, 8, 9] # range start end step\n",
    "a"
   ]
  },
  {
   "cell_type": "code",
   "execution_count": 117,
   "metadata": {},
   "outputs": [
    {
     "data": {
      "text/plain": [
       "[0, 1, 2, 3, 4, 5, 6, 7, 8, 9, 10]"
      ]
     },
     "execution_count": 117,
     "metadata": {},
     "output_type": "execute_result"
    }
   ],
   "source": [
    "a.append(10) # 增\n",
    "a"
   ]
  },
  {
   "cell_type": "code",
   "execution_count": 118,
   "metadata": {},
   "outputs": [
    {
     "data": {
      "text/plain": [
       "[0, 1, 2, 3, 4, 5, 6, 7, 8, 10]"
      ]
     },
     "execution_count": 118,
     "metadata": {},
     "output_type": "execute_result"
    }
   ],
   "source": [
    "# 删\n",
    "a.remove(9)\n",
    "a"
   ]
  },
  {
   "cell_type": "code",
   "execution_count": 119,
   "metadata": {},
   "outputs": [
    {
     "data": {
      "text/plain": [
       "['a', 1, 2, 3, 4, 5, 6, 7, 8, 10]"
      ]
     },
     "execution_count": 119,
     "metadata": {},
     "output_type": "execute_result"
    }
   ],
   "source": [
    "# 改\n",
    "a[0]=\"a\"\n",
    "a"
   ]
  },
  {
   "cell_type": "code",
   "execution_count": 120,
   "metadata": {},
   "outputs": [
    {
     "data": {
      "text/plain": [
       "['a', 1, 2, 3, 4, 5, 6, 7, 8, 10]"
      ]
     },
     "execution_count": 120,
     "metadata": {},
     "output_type": "execute_result"
    }
   ],
   "source": [
    "# 查\n",
    "a[:]"
   ]
  },
  {
   "cell_type": "code",
   "execution_count": 121,
   "metadata": {},
   "outputs": [
    {
     "name": "stdout",
     "output_type": "stream",
     "text": [
      "7\n",
      "1\n"
     ]
    }
   ],
   "source": [
    "my_list = [1, 3, 5, 7, 2]\n",
    "print(max(my_list))  # 输出 7\n",
    "print(min(my_list))  # 输出 1\n"
   ]
  },
  {
   "cell_type": "code",
   "execution_count": 124,
   "metadata": {},
   "outputs": [
    {
     "name": "stdout",
     "output_type": "stream",
     "text": [
      "10\n"
     ]
    }
   ],
   "source": [
    "my_list = [1, 2, 3, 4]\n",
    "print(sum(my_list))  # 输出 10\n"
   ]
  },
  {
   "cell_type": "code",
   "execution_count": 125,
   "metadata": {},
   "outputs": [
    {
     "name": "stdout",
     "output_type": "stream",
     "text": [
      "[1, 2, 3, 4]\n"
     ]
    }
   ],
   "source": [
    "my_list = [4, 2, 1, 3]\n",
    "my_list.sort()\n",
    "print(my_list)  # 输出 [1, 2, 3, 4]\n"
   ]
  },
  {
   "cell_type": "code",
   "execution_count": 126,
   "metadata": {},
   "outputs": [
    {
     "name": "stdout",
     "output_type": "stream",
     "text": [
      "[4, 3, 2, 1]\n"
     ]
    }
   ],
   "source": [
    "my_list = [4, 2, 1, 3] # 降序排序\n",
    "my_list.sort(reverse=True)\n",
    "print(my_list)  # 输出 [4, 3, 2, 1]"
   ]
  },
  {
   "cell_type": "markdown",
   "metadata": {},
   "source": [
    "# 四、Tuple元组\n",
    "\n",
    "- **元组与列表的相似性与区别**  \n",
    "  Python的元组与列表类似，主要区别在于元组的元素**不能修改**，这提高了代码的安全性和可预测性。  \n",
    "  列表是可变类型，而元组是不可变类型。\n",
    "\n",
    "- **元组的定义**  \n",
    "  元组使用小括号 `()` 来定义，而列表使用方括号 `[]`。  \n",
    "\n",
    "  ```python\n",
    "  # 定义一个元组\n",
    "  my_tuple = (1, 2, 3, 4)\n",
    "  ```\n",
    "\n",
    "- **元组的索引与截取**  \n",
    "  元组与字符串类似，可以通过索引访问元素，索引从 `0` 开始，`-1` 表示从末尾开始计数。\n",
    "\n",
    "  ```python\n",
    "  my_tuple = (1, 2, 3, 4)\n",
    "  \n",
    "  # 索引访问\n",
    "  print(my_tuple[0])  # 输出 1\n",
    "  print(my_tuple[-1])  # 输出 4\n",
    "  \n",
    "  # 截取（切片）\n",
    "  print(my_tuple[1:3])  # 输出 (2, 3)\n",
    "  ```\n",
    "\n",
    "- **不可修改的特点**  \n",
    "  一旦元组被定义，就不能修改其内容。这是元组与列表最主要的区别之一。\n",
    "\n",
    "  ```python\n",
    "  my_tuple = (1, 2, 3)\n",
    "  # 以下操作会引发错误，因为元组是不可变的\n",
    "  # my_tuple[0] = 100  # TypeError: 'tuple' object does not support item assignment\n",
    "  ```\n",
    "\n",
    "- **总结**  \n",
    "  元组在Python中作为一种不可变的序列类型，广泛应用于需要确保数据不被修改的场景。其使用方法与列表类似，但由于其不可变性，元组可以提高代码的安全性。"
   ]
  },
  {
   "cell_type": "code",
   "execution_count": 127,
   "metadata": {},
   "outputs": [
    {
     "name": "stdout",
     "output_type": "stream",
     "text": [
      "(1, 2, 3)\n",
      "<class 'tuple'>\n"
     ]
    }
   ],
   "source": [
    "a = (1,2,3)\n",
    "print(a)\n",
    "print(type(a)) # <class 'tuple'>"
   ]
  },
  {
   "cell_type": "code",
   "execution_count": 129,
   "metadata": {},
   "outputs": [
    {
     "name": "stdout",
     "output_type": "stream",
     "text": [
      "<class 'tuple'>\n"
     ]
    }
   ],
   "source": [
    "a = (1,) # <class 'tuple'>\n",
    "print(type(a))"
   ]
  },
  {
   "cell_type": "code",
   "execution_count": 130,
   "metadata": {},
   "outputs": [
    {
     "data": {
      "text/plain": [
       "(1, 2)"
      ]
     },
     "execution_count": 130,
     "metadata": {},
     "output_type": "execute_result"
    }
   ],
   "source": [
    "a = (1,2,3)\n",
    "a[:-1] # (1, 2)"
   ]
  },
  {
   "cell_type": "code",
   "execution_count": 136,
   "metadata": {},
   "outputs": [
    {
     "data": {
      "text/plain": [
       "4"
      ]
     },
     "execution_count": 136,
     "metadata": {},
     "output_type": "execute_result"
    }
   ],
   "source": [
    "a = (2,3,4,1,1,1,1)\n",
    "a.count(1) # 计数"
   ]
  },
  {
   "cell_type": "code",
   "execution_count": 137,
   "metadata": {},
   "outputs": [
    {
     "data": {
      "text/plain": [
       "3"
      ]
     },
     "execution_count": 137,
     "metadata": {},
     "output_type": "execute_result"
    }
   ],
   "source": [
    "a.index(1) # 索引 1最先出现的位置"
   ]
  },
  {
   "cell_type": "markdown",
   "metadata": {},
   "source": [
    "# 五、Set集合\n",
    "\n",
    "- **集合的定义**  \n",
    "  集合（set）是一个**无序**、**不重复**元素的序列，集合中的元素是**唯一**的。集合不允许有重复的元素，它是数学中的集合的实现。\n",
    "\n",
    "- **创建集合**  \n",
    "  集合可以使用大括号 `{}` 或者 `set()` 函数来创建。\n",
    "\n",
    "  ```python\n",
    "  # 使用大括号创建集合\n",
    "  my_set = {1, 2, 3, 4}\n",
    "  \n",
    "  # 使用 set() 函数创建集合\n",
    "  my_set2 = set([1, 2, 3, 4])\n",
    "  ```\n",
    "\n",
    "- **注意空集合**  \n",
    "  空集合只能使用 `set()` 创建，因为 `{}` 是用来创建空字典的。\n",
    "\n",
    "  ```python\n",
    "  # 正确创建空集合\n",
    "  empty_set = set()\n",
    "\n",
    "  # 错误创建空集合，{} 是空字典\n",
    "  empty_dict = {}\n",
    "  ```\n",
    "\n",
    "- **集合的特点**  \n",
    "  - **无序**：集合中的元素没有顺序，不支持索引和切片操作。\n",
    "  - **不重复**：集合中的元素是唯一的，重复元素会被自动去重。\n",
    "\n",
    "  ```python\n",
    "  my_set = {1, 2, 2, 3, 4, 4}\n",
    "  print(my_set)  # 输出 {1, 2, 3, 4}，重复元素自动去重\n",
    "  ```\n",
    "\n",
    "- **常见的集合操作**  \n",
    "  集合支持许多常见的集合操作，如交集、并集等。\n",
    "\n",
    "  ```python\n",
    "  set1 = {1, 2, 3}\n",
    "  set2 = {3, 4, 5}\n",
    "\n",
    "  # 交集\n",
    "  print(set1 & set2)  # 输出 {3}\n",
    "\n",
    "  # 并集\n",
    "  print(set1 | set2)  # 输出 {1, 2, 3, 4, 5}\n",
    "  ```\n",
    "\n",
    "- **总结**  \n",
    "  集合是一种无序的、不允许重复的元素序列，常用于去重、集合运算等场景。它提供了交集、并集等常见的集合操作。\n",
    "```"
   ]
  },
  {
   "cell_type": "code",
   "execution_count": 141,
   "metadata": {},
   "outputs": [
    {
     "name": "stdout",
     "output_type": "stream",
     "text": [
      "{1, 2, 3}\n",
      "{1, 2, 3, 6}\n"
     ]
    }
   ],
   "source": [
    "a = {1,2,3,1,1}\n",
    "print(a) # {1, 2, 3} 集合是不重复的 可以用于去重\n",
    "a.add(6) # 增加\n",
    "print(a)"
   ]
  },
  {
   "cell_type": "code",
   "execution_count": 144,
   "metadata": {},
   "outputs": [
    {
     "data": {
      "text/plain": [
       "{1, 2, 3, 6, 7, 8}"
      ]
     },
     "execution_count": 144,
     "metadata": {},
     "output_type": "execute_result"
    }
   ],
   "source": [
    "a.add(8) \n",
    "a"
   ]
  },
  {
   "cell_type": "code",
   "execution_count": 145,
   "metadata": {},
   "outputs": [
    {
     "data": {
      "text/plain": [
       "{1, 2, 3, 5, 6}"
      ]
     },
     "execution_count": 145,
     "metadata": {},
     "output_type": "execute_result"
    }
   ],
   "source": [
    "# 删\n",
    "a = {1,2,3,5,6,8}\n",
    "a.remove(8)\n",
    "a"
   ]
  },
  {
   "cell_type": "code",
   "execution_count": null,
   "metadata": {},
   "outputs": [
    {
     "data": {
      "text/plain": [
       "{1, 2, 3, 5, 6, 8}"
      ]
     },
     "execution_count": 148,
     "metadata": {},
     "output_type": "execute_result"
    }
   ],
   "source": [
    "a = {1,2,3,5,6,8}\n",
    "del a  # 删除整个集合\n",
    "a"
   ]
  },
  {
   "cell_type": "code",
   "execution_count": 149,
   "metadata": {},
   "outputs": [
    {
     "name": "stdout",
     "output_type": "stream",
     "text": [
      "{3, 4}\n",
      "{1, 2, 3, 4, 5, 6}\n"
     ]
    }
   ],
   "source": [
    "a = {1,2,3,4}\n",
    "b = {3,4,5,6}\n",
    "c = a & b # 数字7 shift+数字7\n",
    "d = a|b # enter上方 shift+\n",
    "print(c)\n",
    "print(d)"
   ]
  },
  {
   "cell_type": "markdown",
   "metadata": {},
   "source": [
    "# 六、Dictionary字典\n",
    "\n",
    "- **字典的定义**  \n",
    "  字典是另一种**可变**容器类型，它可以存储任意类型的对象。字典是一种**映射类型**，其元素是**键值对**（key-value pairs）。每个键（key）在字典中是唯一的，并且必须是不可变类型（如数字、字符串、元组等）。\n",
    "\n",
    "- **字典的创建**  \n",
    "  字典使用大括号 `{}` 来创建，其中每个元素由键值对（key-value）组成，键和值通过冒号 `:` 分隔，键值对之间用逗号 `,` 分隔。创建空字典时可以使用`{}` 。\n",
    "\n",
    "  ```python\n",
    "  # 创建字典\n",
    "  my_dict = {\"name\": \"01\", \"age\": 18, \"height\": \"185\"}\n",
    "  ```\n",
    "\n",
    "- **字典的元素存储结构**  \n",
    "  字典是由**键值对**构成的，每个键都对应一个值，存储形式是 `(key: value)`。\n",
    "\n",
    "  - **键**：必须是不可变类型（如数字、字符串、元组等），且是唯一的。\n",
    "  - **值**：可以是任何类型的数据（可变或不可变）。\n",
    "\n",
    "- **访问字典的值**  \n",
    "  通过键（key）可以访问字典中的值（value）。\n",
    "\n",
    "  ```python\n",
    "  # 访问字典中的值\n",
    "  print(my_dict[\"name\"])  # 输出01\n",
    "  print(my_dict[\"age\"])   # 输出18\n",
    "  ```\n",
    "\n",
    "- **总结**  \n",
    "  字典是一种可变的、无序的映射类型数据结构，广泛用于存储关联数据。它通过**键值对**存储元素，键必须是不可变的，值可以是任意类型。字典是Python中非常常用的数据类型。"
   ]
  },
  {
   "cell_type": "code",
   "execution_count": 150,
   "metadata": {},
   "outputs": [
    {
     "data": {
      "text/plain": [
       "{'name': '01', 'height': 185, 'age': 18}"
      ]
     },
     "execution_count": 150,
     "metadata": {},
     "output_type": "execute_result"
    }
   ],
   "source": [
    "a = {\"name\":\"01\",\"height\":185,\"age\":18}\n",
    "a"
   ]
  },
  {
   "cell_type": "code",
   "execution_count": 151,
   "metadata": {},
   "outputs": [
    {
     "data": {
      "text/plain": [
       "{'name': '01', 'height': 185, 'age': 18, 'IQ': 250}"
      ]
     },
     "execution_count": 151,
     "metadata": {},
     "output_type": "execute_result"
    }
   ],
   "source": [
    "a[\"IQ\"] = 250 # 增\n",
    "a"
   ]
  },
  {
   "cell_type": "code",
   "execution_count": 152,
   "metadata": {},
   "outputs": [
    {
     "data": {
      "text/plain": [
       "{'name': '01', 'height': 185, 'age': 18}"
      ]
     },
     "execution_count": 152,
     "metadata": {},
     "output_type": "execute_result"
    }
   ],
   "source": [
    "# 删\n",
    "del a[\"IQ\"]\n",
    "a"
   ]
  },
  {
   "cell_type": "code",
   "execution_count": 153,
   "metadata": {},
   "outputs": [
    {
     "data": {
      "text/plain": [
       "{'name': '01', 'height': 190, 'age': 18}"
      ]
     },
     "execution_count": 153,
     "metadata": {},
     "output_type": "execute_result"
    }
   ],
   "source": [
    "# 改\n",
    "a[\"height\"] = 190\n",
    "a"
   ]
  },
  {
   "cell_type": "code",
   "execution_count": 154,
   "metadata": {},
   "outputs": [
    {
     "data": {
      "text/plain": [
       "'01'"
      ]
     },
     "execution_count": 154,
     "metadata": {},
     "output_type": "execute_result"
    }
   ],
   "source": [
    "# 查\n",
    "a[\"name\"]"
   ]
  },
  {
   "cell_type": "code",
   "execution_count": 155,
   "metadata": {},
   "outputs": [
    {
     "data": {
      "text/plain": [
       "{'name': '012', 'height': 185, 'age': 18}"
      ]
     },
     "execution_count": 155,
     "metadata": {},
     "output_type": "execute_result"
    }
   ],
   "source": [
    "# 关键字唯一\n",
    "a = {\"name\":\"01\",\"height\":185,\"age\":18,\"name\":\"012\"}\n",
    "a"
   ]
  },
  {
   "cell_type": "code",
   "execution_count": 156,
   "metadata": {},
   "outputs": [
    {
     "name": "stdout",
     "output_type": "stream",
     "text": [
      "dict_keys(['name', 'age', 'height'])\n",
      "dict_values(['01', 18, '185'])\n"
     ]
    }
   ],
   "source": [
    "# 获取字典的所有键或值\n",
    "my_dict = {\"name\": \"01\", \"age\": 18, \"height\": \"185\"}\n",
    "keys = my_dict.keys()   # 获取所有键\n",
    "values = my_dict.values()  # 获取所有值\n",
    "print(keys)\n",
    "print(values)"
   ]
  }
 ],
 "metadata": {
  "kernelspec": {
   "display_name": "test",
   "language": "python",
   "name": "python3"
  },
  "language_info": {
   "codemirror_mode": {
    "name": "ipython",
    "version": 3
   },
   "file_extension": ".py",
   "mimetype": "text/x-python",
   "name": "python",
   "nbconvert_exporter": "python",
   "pygments_lexer": "ipython3",
   "version": "3.9.18"
  }
 },
 "nbformat": 4,
 "nbformat_minor": 2
}
