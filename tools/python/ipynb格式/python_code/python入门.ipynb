{
 "cells": [
  {
   "cell_type": "markdown",
   "metadata": {},
   "source": [
    "#### 本课程为零基础入门Python，预计共2-3小时讲完\n",
    "#### 课程内容包含：\n",
    "- **Python的内置函数** (如：`print`输出函数、`input`输入函数等)\n",
    "- **变量的定义及使用**\n",
    "- **六大数据类型及它们的增删改查**：\n",
    "  - 数值\n",
    "  - 字符串\n",
    "  - 列表\n",
    "  - 字典\n",
    "  - 元组\n",
    "  - 集合\n",
    "- **Python的程序结构**：\n",
    "  - 顺序\n",
    "  - 分支\n",
    "  - 循环\n",
    "- **函数的定义和调用**：\n",
    "  - 局部变量与全局变量\n",
    "- **递归及Python经典编程案例**\n",
    "- **Python面向对象编程**：\n",
    "  - 类和对象的定义及使用\n",
    "  - 封装\n",
    "  - 继承\n",
    "  - 多态\n",
    "#### 后续课程内容：\n",
    "- **数据分析三剑客**：\n",
    "  - Numpy\n",
    "  - Pandas\n",
    "  - Matplotlib\n",
    "- **机器学习库**：Scikit-learn\n",
    "- **深度学习库**：PyTorch"
   ]
  },
  {
   "cell_type": "markdown",
   "metadata": {},
   "source": [
    "## 第一章：初识python"
   ]
  },
  {
   "cell_type": "markdown",
   "metadata": {},
   "source": [
    "#### `print` 输出函数\n",
    "\n",
    "#### 语法结构：\n",
    "```python\n",
    "print(输出内容)\n",
    "```\n",
    "\n",
    "#### `print()` 函数完整语法格式：\n",
    "```python\n",
    "print(*values, sep=\" \", end=\"\\n\", file=None, flush=False)\n",
    "```\n"
   ]
  },
  {
   "cell_type": "code",
   "execution_count": 1,
   "metadata": {},
   "outputs": [
    {
     "name": "stdout",
     "output_type": "stream",
     "text": [
      "hello world\n"
     ]
    }
   ],
   "source": [
    "print(\"hello world\")"
   ]
  },
  {
   "cell_type": "code",
   "execution_count": 2,
   "metadata": {},
   "outputs": [
    {
     "name": "stdout",
     "output_type": "stream",
     "text": [
      "123\n"
     ]
    }
   ],
   "source": [
    "print(123)"
   ]
  },
  {
   "cell_type": "code",
   "execution_count": null,
   "metadata": {},
   "outputs": [
    {
     "name": "stdout",
     "output_type": "stream",
     "text": [
      "1 2 3 4\n",
      "1->2->3->4\n"
     ]
    }
   ],
   "source": [
    "print(1,2,3,4) # 1 2 3 4 默认分隔符为空格\n",
    "print(1,2,3,4,sep=\"->\") # 分隔符改为了箭头"
   ]
  },
  {
   "cell_type": "code",
   "execution_count": null,
   "metadata": {},
   "outputs": [
    {
     "name": "stdout",
     "output_type": "stream",
     "text": [
      "1 2 3\n",
      "1 2 3\n"
     ]
    }
   ],
   "source": [
    "print(1,2,3) # print 默认为\\n  代表换行\n",
    "print(1,2,3)"
   ]
  },
  {
   "cell_type": "code",
   "execution_count": null,
   "metadata": {},
   "outputs": [
    {
     "name": "stdout",
     "output_type": "stream",
     "text": [
      "1 2 3\t1 2 3\n"
     ]
    }
   ],
   "source": [
    "print(1,2,3,end=\"\\t\") # \\t为制表符、为一个tab的大小 \n",
    "print(1,2,3)"
   ]
  },
  {
   "cell_type": "code",
   "execution_count": 17,
   "metadata": {},
   "outputs": [],
   "source": [
    "# 打开名为“报错.txt”的文件，以追加模式(\"a\")打开   w为写入 会覆盖原文本\n",
    "# 如果文件不存在，会自动创建\n",
    "f = open(\"报错.txt\",\"a\")\n",
    "print(\"hello world\",file=f) # 将字符串“hello world”写入文件中，使用print函数，并指定输出目标为文件f\n",
    "f.close() # 关闭文件，确保所有写入的内容保存到文件中"
   ]
  },
  {
   "cell_type": "code",
   "execution_count": 21,
   "metadata": {},
   "outputs": [],
   "source": [
    "# 使用 with 语句打开文件“报错.txt”，以追加模式(\"a\")打开\n",
    "# with 语句可以确保文件在操作完成后自动关闭，避免手动关闭\n",
    "with open('1.txt', 'a') as f:\n",
    "    print(\"print语句需要加上括号111\", file=f)  # 文件会在with语句结束时自动关闭"
   ]
  },
  {
   "cell_type": "code",
   "execution_count": 22,
   "metadata": {},
   "outputs": [
    {
     "data": {
      "text/plain": [
       "'123'"
      ]
     },
     "execution_count": 22,
     "metadata": {},
     "output_type": "execute_result"
    }
   ],
   "source": [
    "# input输入函数\n",
    "input()"
   ]
  },
  {
   "cell_type": "markdown",
   "metadata": {},
   "source": [
    "### 格式化输出\n",
    "#### 含义\n",
    "给定一个模板，按照模板输出内容。\n",
    "#### 格式符号\n",
    "格式化输出使用 `%` 和不同的字符连用，不同类型的数据需要使用不同的格式化字符。\n",
    "#### 常用格式化字符及其含义\n",
    "| 格式化字符 | 含义           |\n",
    "|:----------:|:---------------|\n",
    "| `%c`       | 字符           |\n",
    "| `%s`       | 字符串         |\n",
    "| `%d`       | 十进制整数     |\n",
    "| `%f`       | 浮点数         |"
   ]
  },
  {
   "cell_type": "markdown",
   "metadata": {},
   "source": [
    "### 基本格式化输出：使用%\n",
    "   例子：\n",
    "```python\n",
    "print('我的名字是%s，年龄是%d岁' % (\"01\", 18))\n",
    "```\n",
    "#### format()格式化输出\n",
    "   例子：\n",
    "```python\n",
    "print(\"我的名字是：{}，年龄为：{}岁\".format(\"01\", 18))\n",
    "```\n",
    "#### f表达式格式化输出\n",
    "   例子：\n",
    "```python\n",
    "name, age = \"01\", 18\n",
    "print(f\"名字是{name}，今年{age}岁\")\n",
    "```"
   ]
  },
  {
   "cell_type": "code",
   "execution_count": 23,
   "metadata": {},
   "outputs": [
    {
     "name": "stdout",
     "output_type": "stream",
     "text": [
      "我的名字是01，年龄是18岁\n"
     ]
    }
   ],
   "source": [
    "print('我的名字是%s，年龄是%d岁' % (\"01\", 18))"
   ]
  },
  {
   "cell_type": "code",
   "execution_count": 24,
   "metadata": {},
   "outputs": [
    {
     "name": "stdout",
     "output_type": "stream",
     "text": [
      "我的名字是：01，年龄为：18岁\n"
     ]
    }
   ],
   "source": [
    "print(\"我的名字是：{}，年龄为：{}岁\".format(\"01\", 18))"
   ]
  },
  {
   "cell_type": "code",
   "execution_count": 30,
   "metadata": {},
   "outputs": [
    {
     "name": "stdout",
     "output_type": "stream",
     "text": [
      "名字是01,年龄是20岁\n",
      "名字是01,年龄是20岁\n",
      "名字是01,年龄是20岁\n"
     ]
    }
   ],
   "source": [
    "name, age = \"01\", 20\n",
    "# name = \"01\"\n",
    "# age = 18\n",
    "print(f\"名字是{name},年龄是{age}岁\")\n",
    "print(f\"名字是{name},年龄是{age}岁\")\n",
    "print(f\"名字是{name},年龄是{age}岁\")"
   ]
  },
  {
   "cell_type": "code",
   "execution_count": 28,
   "metadata": {},
   "outputs": [
    {
     "name": "stdout",
     "output_type": "stream",
     "text": [
      "我的名字是01，年龄是19岁\n",
      "我的名字是01，年龄是19岁\n",
      "我的名字是01，年龄是19岁\n"
     ]
    }
   ],
   "source": [
    "print('我的名字是%s，年龄是%d岁' % (\"01\", 19))\n",
    "print('我的名字是%s，年龄是%d岁' % (\"01\", 19))\n",
    "print('我的名字是%s，年龄是%d岁' % (\"01\", 19))"
   ]
  },
  {
   "cell_type": "markdown",
   "metadata": {},
   "source": [
    "#### 变量\n",
    "- 变量是将数据在内存中存储后给定的一个名称，这个名称就是变量。\n",
    "- 变量名是没有类型的，类型只存在于对象中，变量只是引用对象。\n",
    "- Python 为动态解释型语言，在赋值操作时，类型是在运行过程中自动决定的。\n",
    "#### 对象\n",
    "- 对象是有类型的。\n",
    "- 对象是分配的一块内存空间，用来表示它的值。\n",
    "- Python 对象的三要素：\n",
    "  - `id`：对象的唯一标识符。\n",
    "  - `type`：对象的类型。\n",
    "  - `value`：对象的值。"
   ]
  },
  {
   "cell_type": "code",
   "execution_count": 32,
   "metadata": {},
   "outputs": [
    {
     "name": "stdout",
     "output_type": "stream",
     "text": [
      "1\n"
     ]
    }
   ],
   "source": [
    "a = 1 # 定义变量a\n",
    "print(a)"
   ]
  },
  {
   "cell_type": "code",
   "execution_count": 40,
   "metadata": {},
   "outputs": [
    {
     "name": "stdout",
     "output_type": "stream",
     "text": [
      "2095699744944\n",
      "2095699552912\n"
     ]
    }
   ],
   "source": [
    "a = 123\n",
    "print(id(a))\n",
    "a = 12\n",
    "print(id(a))"
   ]
  },
  {
   "cell_type": "code",
   "execution_count": 41,
   "metadata": {},
   "outputs": [
    {
     "name": "stdout",
     "output_type": "stream",
     "text": [
      "训练的总轮数为100，得到的acc为0.8\n"
     ]
    }
   ],
   "source": [
    "epoch = 100\n",
    "acc = 0.8\n",
    "print(f\"训练的总轮数为{epoch}，得到的acc为{acc}\")"
   ]
  },
  {
   "cell_type": "code",
   "execution_count": 33,
   "metadata": {},
   "outputs": [
    {
     "name": "stdout",
     "output_type": "stream",
     "text": [
      "['False', 'None', 'True', '__peg_parser__', 'and', 'as', 'assert', 'async', 'await', 'break', 'class', 'continue', 'def', 'del', 'elif', 'else', 'except', 'finally', 'for', 'from', 'global', 'if', 'import', 'in', 'is', 'lambda', 'nonlocal', 'not', 'or', 'pass', 'raise', 'return', 'try', 'while', 'with', 'yield']\n"
     ]
    }
   ],
   "source": [
    "import keyword\n",
    "print(keyword.kwlist)"
   ]
  },
  {
   "cell_type": "markdown",
   "metadata": {},
   "source": [
    "#### 变量的命名\n",
    "- 变量名只能由数字、字母和 _(下划线) 组成。\n",
    "- 变量名不能以数字开头。\n",
    "- 变量名不能是 Python 关键字。\n",
    "- 变量名是区分大小写的。"
   ]
  },
  {
   "cell_type": "markdown",
   "metadata": {},
   "source": [
    "#### `input()` 函数\n",
    "`input()` 是 Python 中用于从用户获取输入的函数。它会在控制台显示提示信息，并等待用户输入。用户输入的内容会以字符串形式返回。\n",
    "#### 基本用法\n",
    "\n",
    "```python\n",
    "user_input = input(\"请输入一些内容：\")\n",
    "print(\"你输入的内容是:\", user_input)\n",
    "```"
   ]
  },
  {
   "cell_type": "code",
   "execution_count": null,
   "metadata": {},
   "outputs": [
    {
     "name": "stdout",
     "output_type": "stream",
     "text": [
      "你输入的内容是: 123\n",
      "<class 'str'>\n"
     ]
    }
   ],
   "source": [
    "a = input(\"请输入一些内容：\")\n",
    "print(\"你输入的内容是:\", a)\n",
    "print(type(a)) # <class 'str'>字符串类型"
   ]
  },
  {
   "cell_type": "code",
   "execution_count": 38,
   "metadata": {},
   "outputs": [
    {
     "name": "stdout",
     "output_type": "stream",
     "text": [
      "你输入的内容是: 123\n",
      "<class 'int'>\n"
     ]
    }
   ],
   "source": [
    "age = int(input(\"请输入一些内容：\"))\n",
    "print(\"你输入的内容是:\", age)\n",
    "print(type(a)) # <class 'int'> 整型"
   ]
  }
 ],
 "metadata": {
  "kernelspec": {
   "display_name": "test",
   "language": "python",
   "name": "python3"
  },
  "language_info": {
   "codemirror_mode": {
    "name": "ipython",
    "version": 3
   },
   "file_extension": ".py",
   "mimetype": "text/x-python",
   "name": "python",
   "nbconvert_exporter": "python",
   "pygments_lexer": "ipython3",
   "version": "3.9.18"
  }
 },
 "nbformat": 4,
 "nbformat_minor": 2
}
