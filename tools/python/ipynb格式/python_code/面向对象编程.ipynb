{
 "cells": [
  {
   "cell_type": "markdown",
   "metadata": {},
   "source": [
    "# Python面向对象编程\n",
    "\n",
    "## 面向过程编程\n",
    "\n",
    "面向过程就是一种以过程为中心的编程思想。把要完成的事情拆分为几个步骤，然后按照顺序来执行，典型代表：C语言。\n",
    "\n",
    "## 面向对象编程\n",
    "\n",
    "面向对象则会把事物抽象成对象，然后给每个对象赋一些属性和方法，让每个对象都去执行自己的方法，典型代表：Java、Python。\n",
    "\n",
    "## 举个洗衣服的例子\n",
    "\n",
    "**面向过程：**\n",
    "- 放衣服\n",
    "- 放洗衣粉\n",
    "- 放水\n",
    "- 清洗\n",
    "- 甩干\n",
    "\n",
    "**面向对象：**\n",
    "1. 创建出两个对象：“人”和“洗衣机”\n",
    "2. 在“人”和“洗衣机”中加入属性和方法\n",
    "3. 然后只需执行这两个对象即可\n",
    "\n",
    "---"
   ]
  },
  {
   "cell_type": "markdown",
   "metadata": {},
   "source": [
    "# 类和对象\n",
    "\n",
    "## 类的定义\n",
    "类是具有相同属性和功能的一类事物。\n",
    "\n",
    "## 对象的定义\n",
    "对象是类的具体体现，是面向对象编程的核心。\n",
    "\n",
    "- **动物(类)** → 猫、狗、熊(对象)\n",
    "- **人类(类)** → 张三、李四、王五(对象)\n",
    "\n",
    "---"
   ]
  },
  {
   "cell_type": "markdown",
   "metadata": {},
   "source": [
    "## 类和对象的语法结构\n",
    "\n",
    "### 自定义类的语法结构\n",
    "```python\n",
    "class 类名():\n",
    "    pass\n",
    "```\n",
    "\n",
    "### 创建对象的语法格式\n",
    "```python\n",
    "对象名 = 类名()\n",
    "```  "
   ]
  },
  {
   "cell_type": "code",
   "execution_count": 1,
   "metadata": {},
   "outputs": [
    {
     "name": "stdout",
     "output_type": "stream",
     "text": [
      "<class 'int'>\n",
      "<class 'float'>\n",
      "<class 'str'>\n"
     ]
    }
   ],
   "source": [
    "a = 10 # <class 'int'> 整型类别\n",
    "b = 9.9 # <class 'float'>\n",
    "c = \"hello world\" #<class 'str'>\n",
    "print(type(a))\n",
    "print(type(b))\n",
    "print(type(c))"
   ]
  },
  {
   "cell_type": "code",
   "execution_count": 2,
   "metadata": {},
   "outputs": [],
   "source": [
    "class Person(): # 定义一个Person类\n",
    "    pass# 用pass占位 避免语法错误\n",
    "\n",
    "class Pig(): # 定义一个Pig类\n",
    "    pass"
   ]
  },
  {
   "cell_type": "code",
   "execution_count": 3,
   "metadata": {},
   "outputs": [
    {
     "name": "stdout",
     "output_type": "stream",
     "text": [
      "<class '__main__.Person'>\n",
      "<class '__main__.Pig'>\n"
     ]
    }
   ],
   "source": [
    "# 创建对象 对象名=类名()\n",
    "# 创建一个Person类型的对象\n",
    "people = Person() # people就是Person类型的对象\n",
    "zhu = Pig() # zhu就是Pig类型的对象\n",
    "print(type(people)) # <class '__main__.Person'>\n",
    "print(type(zhu)) # <class '__main__.Pig'>"
   ]
  },
  {
   "cell_type": "markdown",
   "metadata": {},
   "source": [
    "### 类中的属性和方法：\n",
    "\n",
    "**属性**：对象的特征描述（本质为类中定义的变量）\n",
    "\n",
    "**方法**：对象具有的行为（本质为函数）\n",
    "\n",
    "- **类属性**：定义在类中、方法之外的，属于类，可以通过 \"类名.属性名\" 来访问\n",
    "\n",
    "- **实例属性**：从属于实例对象的属性，一般在 `__init__()` 方法中通过如下代码定义：`self.实例属性名 = 初始值`\n",
    "\n",
    "- **实例方法**：定义在类中的函数，且自带参数 `self`\n",
    "\n",
    "- **类方法**：使用装饰器 `@classmethod` 来声明，第一个参数通常被命名为 `cls`，它指向类而不是实例\n",
    "\n",
    "- **静态方法**：使用装饰器 `@staticmethod` 来声明，是类中的独立函数\n",
    "\n",
    "\n"
   ]
  },
  {
   "cell_type": "code",
   "execution_count": 4,
   "metadata": {},
   "outputs": [],
   "source": [
    "class Person():\n",
    "    height = 185  # 类属性\n",
    "    weight = 140  # 类属性\n",
    "    def __init__(self,name,age): # 初始方法，name、age是方法的参数，是局部变量，作用域为整个__init__方法  self表示的是实例本身\n",
    "        self.name = name # 左侧self.name为实例属性，右侧为局部变量name，两者可以相同\n",
    "        self.age = age\n",
    "    def sing(self):  # 实例方法\n",
    "        print(\"我唱歌很厉害~\")\n",
    "    def jump(self): # 实例方法\n",
    "        print(\"我一脚能跳2米高~\")\n",
    "    def show(self): # 实例方法\n",
    "        print(f\"我叫{self.name}，今年有{self.age}岁啦\") # 必须使用实例属性，单独使用name无效\n",
    "    # 类方法 不能调用实例属性和实例方法，cls指向的是类\n",
    "    @classmethod\n",
    "    def class_method(cls):\n",
    "        print(f\"我的身高是{cls.height}\")\n",
    "    # 静态方法  静态方法没有访问类或者实例的特殊参数\n",
    "    @staticmethod\n",
    "    def add(a,b):\n",
    "        result =  a+b\n",
    "        return result"
   ]
  },
  {
   "cell_type": "code",
   "execution_count": 8,
   "metadata": {},
   "outputs": [
    {
     "name": "stdout",
     "output_type": "stream",
     "text": [
      "185\n",
      "01\n",
      "我一脚能跳2米高~\n",
      "我的身高是185\n"
     ]
    },
    {
     "data": {
      "text/plain": [
       "3"
      ]
     },
     "execution_count": 8,
     "metadata": {},
     "output_type": "execute_result"
    }
   ],
   "source": [
    "# 创建对象\n",
    "person = Person(\"01\",18) # init方法中有两个形参，self为自带参数，指向的是实例，无需传入\n",
    "print(Person.height) # 类属性， 使用类名加.即可调用\n",
    "print(person.name) # 实例属性，使用对象名加.即可调用\n",
    "person.jump()      #实例方法\n",
    "Person.class_method() # 类方法\n",
    "Person.add(1,2) # 静态方法"
   ]
  },
  {
   "cell_type": "code",
   "execution_count": 10,
   "metadata": {},
   "outputs": [
    {
     "name": "stdout",
     "output_type": "stream",
     "text": [
      "******************************\n",
      "张三\n",
      "李四\n",
      "王五\n",
      "******************************\n",
      "19\n",
      "20\n",
      "21\n"
     ]
    }
   ],
   "source": [
    "class Person():\n",
    "    height = 185  # 类属性\n",
    "    weight = 140  # 类属性\n",
    "    def __init__(self,name,age): # 初始方法，name、age是方法的参数，是局部变量，作用域为整个__init__方法\n",
    "        self.name = name # 左侧self.name为实例属性，右侧为局部变量name，两者可以相同\n",
    "        self.age = age\n",
    "    def sing(self):  # 实例方法\n",
    "        print(\"我唱歌很厉害~\")\n",
    "    def jump(self): # 实例方法\n",
    "        print(\"我一脚能跳2米高~\")\n",
    "    def show(self): # 实例方法\n",
    "        print(f\"我叫{self.name}，今年有{self.age}岁啦\") # 必须使用实例属性，单独使用name无效\n",
    "# 根据类可以创建多个对象\n",
    "per1 = Person(\"张三\",\"19\")\n",
    "per2 = Person(\"李四\",\"20\")\n",
    "per3 = Person(\"王五\",\"21\")\n",
    "print(\"***\"*10)\n",
    "print(per1.name)\n",
    "print(per2.name)\n",
    "print(per3.name)\n",
    "print(\"***\"*10)\n",
    "# 循环打印\n",
    "lst = [per1,per2,per3]\n",
    "for item in lst:\n",
    "    print(item.age)"
   ]
  },
  {
   "cell_type": "code",
   "execution_count": 11,
   "metadata": {},
   "outputs": [
    {
     "name": "stdout",
     "output_type": "stream",
     "text": [
      "100\n",
      "打开电视，看电视~！\n"
     ]
    }
   ],
   "source": [
    "class Home():\n",
    "    def __init__(self,size,height,value):\n",
    "        self.size = size\n",
    "        self.height = height\n",
    "        self.value = value\n",
    "    def tv(self):\n",
    "        print(\"打开电视，看电视~！\")\n",
    "home1 = Home(100,3,200)\n",
    "print(home1.size)\n",
    "home1.tv()"
   ]
  },
  {
   "cell_type": "code",
   "execution_count": 15,
   "metadata": {},
   "outputs": [
    {
     "name": "stdout",
     "output_type": "stream",
     "text": [
      "100\n",
      "这是一个豪宅\n"
     ]
    }
   ],
   "source": [
    "class Home():\n",
    "    def __init__(self,size,height,value):\n",
    "        self.size = size\n",
    "        self.height = height\n",
    "        self.value = value\n",
    "    def tv(self):\n",
    "        print(\"打开电视，看电视~！\")\n",
    "home1 = Home(100,3,200)\n",
    "home2 = Home(110,3,240)\n",
    "home1.age = 100 # 给home1动态绑定实例属性\n",
    "print(home1.age)\n",
    "# print(home2.age)\n",
    "def home_type():\n",
    "    print(\"这是一个豪宅\")\n",
    "home1.fun = home_type # 函数赋值，fun为home1对象的方法\n",
    "home1.fun()\n",
    "    "
   ]
  },
  {
   "cell_type": "markdown",
   "metadata": {},
   "source": [
    "# 面向对象编程三大特性：封装、继承、多态\n",
    "\n",
    "## 封装\n",
    "封装是面向对象编程中最重要的特性。封装就是将数据和功能整合在一起。针对封装到对象或者类中的属性，可以严格控制在类外部对它们的访问，即隐藏属性和开放接口。\n",
    "\n",
    "### 封装的好处\n",
    "- 提高程序的安全性。\n",
    "- 防止外部代码直接访问对象内部的状态，外部只能通过定义好的接口来操作对象。\n",
    "\n",
    "### 实现方式\n",
    "封装通过定义**私有属性**和**公共方法**来实现。\n",
    "\n",
    "## 封装中的主要概念\n",
    "\n",
    "- **类**是抽象出来的概念，在现实世界中是不存在的。\n",
    "- **对象**是具体的概念，在现实世界中是真实存在的。\n",
    "\n",
    "---"
   ]
  },
  {
   "cell_type": "markdown",
   "metadata": {},
   "source": [
    "### 为什么需要封装\n",
    "\n",
    "1. **隐藏实现细节**：封装可以将类的内部细节隐藏起来，使得外部无法直接访问对象的属性或方法，从而保护数据不受意外修改。\n",
    "   \n",
    "2. **简化接口**：通过封装，我们可以提供简洁清晰的外部接口，使得使用者无需了解类的内部实现细节，只需通过接口来操作对象。\n",
    "\n",
    "### 封装的实现方式\n",
    "\n",
    "在面向对象编程中，封装可以通过以下方式实现：\n",
    "\n",
    "- **私有属性和方法**：使用语言提供的特殊语法（如在 Python 中使用双下划线 `__` 开头的属性或方法）来限制对属性和方法的访问，使其只能在类的内部被访问。\n",
    "\n",
    "- **公有接口方法**：提供公有的方法来访问和修改私有属性，从而实现对属性的控制和保护。\n",
    "\n",
    "### 封装的优点\n",
    "\n",
    "- **安全性**：封装可以保护类的内部数据不被外部直接访问，提高数据安全性。\n",
    "\n",
    "- **灵活性**：封装使得类的内部实现细节可以随时修改而不影响外部调用者。\n",
    "\n",
    "- **简化接口**：封装可以提供简单清晰的外部接口，减少调用者需要了解的类的细节，降低了使用难度。\n",
    "\n",
    "封装是面向对象编程的三大特征之一，与继承和多态一样，是设计良好的面向对象程序的重要组成部分。\n"
   ]
  },
  {
   "cell_type": "markdown",
   "metadata": {},
   "source": [
    "## 访问限制\n",
    "\n",
    "- **单下划线开头**：属性或方法以单下划线开头，表示它们是受保护的，在类的内部和子类中可以被访问，但是不建议直接访问。这种命名约定被称为\"受保护的\"（protected）。\n",
    "\n",
    "- **双下划线开头**：属性或方法以双下划线开头，表示它们是私有的，只能在类的内部访问，外部无法直接访问。这种命名约定被称为\"私有的\"（private）。\n",
    "\n",
    "- **双下划线开头和结尾**：魔法方法,如常见的 ： `__init__`、`__del__` 等。这些方法在类或对象进行特定的操作时会自动被调用，我们可以使用或重写这些魔法方法，给自定义的类添加各种特殊的功能来满足自己的需求。"
   ]
  },
  {
   "cell_type": "code",
   "execution_count": 19,
   "metadata": {},
   "outputs": [
    {
     "name": "stdout",
     "output_type": "stream",
     "text": [
      "01\n",
      "18\n"
     ]
    },
    {
     "data": {
      "text/plain": [
       "['_Person__age',\n",
       " '__class__',\n",
       " '__delattr__',\n",
       " '__dict__',\n",
       " '__dir__',\n",
       " '__doc__',\n",
       " '__eq__',\n",
       " '__format__',\n",
       " '__ge__',\n",
       " '__getattribute__',\n",
       " '__gt__',\n",
       " '__hash__',\n",
       " '__init__',\n",
       " '__init_subclass__',\n",
       " '__le__',\n",
       " '__lt__',\n",
       " '__module__',\n",
       " '__ne__',\n",
       " '__new__',\n",
       " '__reduce__',\n",
       " '__reduce_ex__',\n",
       " '__repr__',\n",
       " '__setattr__',\n",
       " '__sizeof__',\n",
       " '__str__',\n",
       " '__subclasshook__',\n",
       " '__weakref__',\n",
       " '_name',\n",
       " 'height']"
      ]
     },
     "execution_count": 19,
     "metadata": {},
     "output_type": "execute_result"
    }
   ],
   "source": [
    "class Person():\n",
    "    def __init__(self,name,age,height):\n",
    "        self._name = name # self._name 受保护的，只能本类和子类访问\n",
    "        self.__age = age # self.__age 私有的 只能在类的内部访问\n",
    "        self.height = height # 实例属性，类的内部，外部，子类都可以访问\n",
    "\n",
    "person5 = Person(\"01\",18,185)\n",
    "print(person5._name) # 调用受保护的实例\n",
    "# person5.__age  # 调用私有的实例属性 会报错\n",
    "print(person5._Person__age)  # 输出: 18 不推荐\n",
    "dir(person5) # 查看对象的所有属性和方法\n"
   ]
  },
  {
   "cell_type": "markdown",
   "metadata": {},
   "source": [
    "# 继承\n",
    "\n",
    "## 现实生活中的继承含义\n",
    "“子承父业”是继承在现实生活中的含义，表示子代从父代继承事业或特长。\n",
    "\n",
    "## 在Python中的继承\n",
    "继承是一种类与类之间的关系，描述了一个类从另一个类获取成员（属性和方法）的信息。实现继承的类称为**子类**，被继承的类称为**父类**。\n",
    "\n",
    "### 继承的作用\n",
    "继承可以使得子类具有父类的各种属性和方法，这样就不需要在子类中重复编写相同的代码，能够提高代码的复用性。\n",
    "\n",
    "### 继承的特性\n",
    "- **一个子类可以继承多个父类**：Python支持多重继承，即一个类可以继承多个类的属性和方法。\n",
    "- **一个父类可以有多个子类**：一个父类可以被多个子类继承，形成类的层次结构。\n",
    "- **默认继承`object`类**：如果一个类没有显式继承任何类，它默认继承自Python的根类`object`。\n",
    "\n",
    "### 继承的格式\n",
    "```python\n",
    "class 类名(父类名):\n",
    "    pass\n",
    "```\n",
    "\n",
    "### 特点\n",
    "\n",
    "1. **代码重用**：继承允许子类重用父类的代码，避免了重复编写相似的代码。\n",
    "\n",
    "2. **扩展性**：子类可以在继承父类的基础上添加新的属性和方法，从而增强了类的功能。\n",
    "\n",
    "3. **覆盖方法**：子类可以重写父类的方法，以实现特定的行为。\n",
    "\n",
    "### 类型\n",
    "\n",
    "根据继承的方式，可以将继承分为以下几种类型：\n",
    "\n",
    "- **单继承**：一个子类只继承一个父类。\n",
    "- **多继承**：一个子类继承多个父类。\n",
    "- **多层继承**：一个子类继承自另一个子类，而后者又继承自一个父类。\n",
    "- **混合继承**：结合了单继承和多继承的特性，使得子类同时具有多个父类的特征。\n",
    "\n",
    "### 语法\n",
    "\n",
    "在Python中，可以使用以下语法实现继承：\n",
    "\n",
    "```python\n",
    "class ParentClass:\n",
    "    # 父类的属性和方法\n",
    "\n",
    "class ChildClass(ParentClass):\n",
    "    # 子类的属性和方法\n",
    "\n",
    "```"
   ]
  },
  {
   "cell_type": "code",
   "execution_count": 20,
   "metadata": {},
   "outputs": [
    {
     "name": "stdout",
     "output_type": "stream",
     "text": [
      "我叫张三，今年25岁了，我打篮球很厉害\n",
      "我叫李四，今年28岁了，我唱歌很厉害\n",
      "我叫张三，今年25岁啦~~\n"
     ]
    }
   ],
   "source": [
    "class Person(): # 定义一个Person类 默认继承object类\n",
    "    def __init__(self,name,age):\n",
    "        self.name = name # 定义实例属性 name，用于存储人名\n",
    "        self.age = age\n",
    "    def fun(self):\n",
    "        print(f\"我叫{self.name}，今年{self.age}岁啦~~\")\n",
    "\n",
    "class bask_person(Person):\n",
    "    def __init__(self, name, age):\n",
    "        super().__init__(name, age) # 调用父类 Person 的初始化方法，传入姓名和年龄\n",
    "        print(f\"我叫{self.name}，今年{self.age}岁了，我打篮球很厉害\")\n",
    "\n",
    "class sing_person(Person):\n",
    "    def __init__(self, name, age):\n",
    "        super().__init__(name, age)\n",
    "        print(f\"我叫{self.name}，今年{self.age}岁了，我唱歌很厉害\")\n",
    "\n",
    "people1 = bask_person(\"张三\",25)  # 创建 bask_person 类的实例，姓名为 \"张三\"，年龄为 25\n",
    "people2 = sing_person(\"李四\",28)\n",
    "people1.fun()  # 调用父类的 fun 方法打印个人信息"
   ]
  },
  {
   "cell_type": "code",
   "execution_count": 23,
   "metadata": {},
   "outputs": [
    {
     "name": "stdout",
     "output_type": "stream",
     "text": [
      "BBBBBBBB\n"
     ]
    }
   ],
   "source": [
    "# 多继承\n",
    "class A():\n",
    "    def printA(self): # 无实例属性。可以不写初始化方法\n",
    "        print(\"AAAAAAAA\")\n",
    "\n",
    "class B():\n",
    "    def printB(self):\n",
    "        print(\"BBBBBBBB\")\n",
    "\n",
    "class C(A,B):\n",
    "    def printC(self):\n",
    "        print(\"CCCCCCCCC\")\n",
    "\n",
    "c1 = C() # 创建 C 类的实例\n",
    "c1.printB() # 调用 A 类的方法"
   ]
  },
  {
   "cell_type": "markdown",
   "metadata": {},
   "source": [
    "### 重写父类方法"
   ]
  },
  {
   "cell_type": "code",
   "execution_count": 29,
   "metadata": {},
   "outputs": [
    {
     "name": "stdout",
     "output_type": "stream",
     "text": [
      "gogogo\n"
     ]
    }
   ],
   "source": [
    "class Dog():\n",
    "    def say(self):\n",
    "        print(\"aoaoao\")\n",
    "\n",
    "class X_dog(Dog): \n",
    "    pass\n",
    "    def say(self):\n",
    "        print(\"gogogo\")\n",
    "\n",
    "xiaobai = X_dog()\n",
    "\n",
    "xiaobai.say()"
   ]
  },
  {
   "cell_type": "markdown",
   "metadata": {},
   "source": [
    "# 多态\n",
    "\n",
    "## 多态的含义\n",
    "多态指的是一类事物有多种形态。例如，动物类可以有猫、狗、羊等多个子类。多态表现为同一个方法或操作，在不同的对象上有不同的表现形式。\n",
    "\n",
    "## 多态的概念\n",
    "多态是一种使用对象的方式。具体而言，子类可以重写父类的方法，当调用相同的方法时，不同子类的对象会表现出不同的行为。\n",
    "\n",
    "## 多态的好处\n",
    "代码简洁：多态使得父类的接口能够处理不同类型的对象，代码更加简洁且具有兼容性。\n",
    "\n",
    "易于扩展：只需要新增子类并重写父类方法，外部代码可以无缝适应新增的子类，提升代码的可扩展性和维护性。"
   ]
  },
  {
   "cell_type": "code",
   "execution_count": 30,
   "metadata": {},
   "outputs": [
    {
     "name": "stdout",
     "output_type": "stream",
     "text": [
      "猫喜欢吃鱼\n",
      "狗喜欢吃骨头\n",
      "猪喜欢吃糠\n"
     ]
    }
   ],
   "source": [
    "class Animal: # 动物类\n",
    "    def eat(self):\n",
    "        pass\n",
    "class Dog(Animal): #动物的形态之一:狗\n",
    "    def eat(self):\n",
    "        print('狗喜欢吃骨头')\n",
    "class Cat(Animal): #动物的形态之二:猫\n",
    "    def eat(self):\n",
    "        print('猫喜欢吃鱼')\n",
    "class Pig(Animal): #动物的形态之三:猪\n",
    "    def eat(self):\n",
    "        print('猪喜欢吃糠')\n",
    "\n",
    "#实例化三个对象\n",
    "dog=Dog()\n",
    "cat=Cat()\n",
    "pig=Pig()\n",
    "\n",
    "def Eat(animal): # 定义一个Eat函数\n",
    "    animal.eat()\n",
    "\n",
    "Eat(cat) # 调用 Eat 函数并传入不同的动物实例\n",
    "Eat(dog)\n",
    "Eat(pig)\n"
   ]
  },
  {
   "cell_type": "markdown",
   "metadata": {},
   "source": [
    "# 魔法方法\n",
    "\n",
    "## 定义\n",
    "**魔法方法**（也称为**特殊方法**或**双下划线方法**）是Python中一些具有特殊功能的方法，它们以双下划线`__`开头和结尾。"
   ]
  },
  {
   "cell_type": "code",
   "execution_count": 32,
   "metadata": {},
   "outputs": [],
   "source": [
    "class List_1:\n",
    "    def __init__(self, lst):\n",
    "        \"\"\"\n",
    "        初始化方法\n",
    "        参数:\n",
    "            lst (list): 要包装的列表。\n",
    "        \"\"\"\n",
    "        self.lst = lst\n",
    "\n",
    "    def __getitem__(self, index):\n",
    "        \"\"\"\n",
    "        获取指定索引位置的元素。\n",
    "        参数:\n",
    "            index (int): 要获取元素的索引。\n",
    "        返回:\n",
    "            该索引位置的元素。\n",
    "        \"\"\"\n",
    "        return self.lst[index]\n",
    "\n",
    "    def __delitem__(self, index):\n",
    "        \"\"\"\n",
    "        删除指定索引位置的元素。\n",
    "        参数:\n",
    "            index (int): 要删除元素的索引。\n",
    "        \"\"\"\n",
    "        del self.lst[index]\n",
    "\n",
    "    def __len__(self):\n",
    "        \"\"\"\n",
    "        返回列表的长度。\n",
    "        返回:\n",
    "            列表的长度。\n",
    "        \"\"\"\n",
    "        return len(self.lst)\n",
    "\n",
    "    def append(self, item):\n",
    "        \"\"\"\n",
    "        向列表末尾添加一个新元素。\n",
    "        参数:\n",
    "            item: 要添加的新元素。\n",
    "        \"\"\"\n",
    "        self.lst.append(item)\n"
   ]
  },
  {
   "cell_type": "code",
   "execution_count": 43,
   "metadata": {},
   "outputs": [
    {
     "name": "stdout",
     "output_type": "stream",
     "text": [
      "3\n"
     ]
    }
   ],
   "source": [
    "# 创建一个列表\n",
    "my_list = [1, 2, 3, 4, 5]\n",
    "\n",
    "# 实例化 List_1 对象，传入列表作为参数\n",
    "wrapper = List_1(my_list)\n",
    "\n",
    "# 使用魔法方法获取列表中的第三个元素\n",
    "print(wrapper.__getitem__(2))  \n",
    "\n"
   ]
  },
  {
   "cell_type": "code",
   "execution_count": 34,
   "metadata": {},
   "outputs": [
    {
     "name": "stdout",
     "output_type": "stream",
     "text": [
      "5\n",
      "[1, 2, 3, 4, 5, 6]\n"
     ]
    }
   ],
   "source": [
    "# 使用魔法方法获取列表的长度\n",
    "print(wrapper.__len__())  \n",
    "\n",
    "# 使用魔法方法向列表末尾添加一个新元素\n",
    "wrapper.append(6)\n",
    "\n",
    "# 查看列表的内容\n",
    "print(wrapper.lst)  "
   ]
  },
  {
   "cell_type": "code",
   "execution_count": 35,
   "metadata": {},
   "outputs": [
    {
     "name": "stdout",
     "output_type": "stream",
     "text": [
      "6\n"
     ]
    }
   ],
   "source": [
    "# 使用魔法方法获取列表的长度\n",
    "print(wrapper.__len__())  "
   ]
  },
  {
   "cell_type": "code",
   "execution_count": 41,
   "metadata": {},
   "outputs": [
    {
     "name": "stdout",
     "output_type": "stream",
     "text": [
      "[]\n"
     ]
    }
   ],
   "source": [
    "# 使用魔法方法删除列表中的第一个元素\n",
    "wrapper.__delitem__(0)\n",
    "print(wrapper.lst) "
   ]
  },
  {
   "cell_type": "code",
   "execution_count": 44,
   "metadata": {},
   "outputs": [
    {
     "name": "stdout",
     "output_type": "stream",
     "text": [
      "5\n"
     ]
    }
   ],
   "source": [
    "print(wrapper.__len__())  "
   ]
  }
 ],
 "metadata": {
  "kernelspec": {
   "display_name": "test",
   "language": "python",
   "name": "python3"
  },
  "language_info": {
   "codemirror_mode": {
    "name": "ipython",
    "version": 3
   },
   "file_extension": ".py",
   "mimetype": "text/x-python",
   "name": "python",
   "nbconvert_exporter": "python",
   "pygments_lexer": "ipython3",
   "version": "3.9.18"
  }
 },
 "nbformat": 4,
 "nbformat_minor": 2
}
